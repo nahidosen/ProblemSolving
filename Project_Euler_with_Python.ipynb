{
  "nbformat": 4,
  "nbformat_minor": 0,
  "metadata": {
    "interpreter": {
      "hash": "bb0cbac54d6cdbae60be2e6d83bf46fb7f752717ca2d60c579508701c83844df"
    },
    "kernelspec": {
      "display_name": "Python 3.10.0 64-bit",
      "name": "python3"
    },
    "language_info": {
      "codemirror_mode": {
        "name": "ipython",
        "version": 3
      },
      "file_extension": ".py",
      "mimetype": "text/x-python",
      "name": "python",
      "nbconvert_exporter": "python",
      "pygments_lexer": "ipython3",
      "version": "3.10.0"
    },
    "orig_nbformat": 4,
    "colab": {
      "name": "Project_Euler_with_Python.ipynb",
      "provenance": [],
      "collapsed_sections": [],
      "include_colab_link": true
    }
  },
  "cells": [
    {
      "cell_type": "markdown",
      "metadata": {
        "id": "view-in-github",
        "colab_type": "text"
      },
      "source": [
        "<a href=\"https://colab.research.google.com/github/nahidosen/ProblemSolving/blob/main/Project_Euler_with_Python.ipynb\" target=\"_parent\"><img src=\"https://colab.research.google.com/assets/colab-badge.svg\" alt=\"Open In Colab\"/></a>"
      ]
    },
    {
      "cell_type": "markdown",
      "metadata": {
        "id": "Th1kCqkESXz0"
      },
      "source": [
        "## Notes\n",
        "\n",
        "For local runtime with Google Colab:\n",
        "* jupyter serverextension enable --py jupyter_http_over_ws\n",
        "* jupyter notebook --NotebookApp.allow_origin='https://colab.research.google.com' --port=8888 --NotebookApp.port_retries=0"
      ]
    },
    {
      "cell_type": "markdown",
      "metadata": {
        "id": "uMYq9sEqY_RP"
      },
      "source": [
        "## Problem 1\n",
        "### Multiples of 3 or 5\n",
        "\n",
        "If we list all the natural numbers below 10 that are multiples of 3 or 5, we get 3, 5, 6 and 9. The sum of these multiples is 23.\n",
        "\n",
        "Find the sum of all the multiples of 3 or 5 below 1000."
      ]
    },
    {
      "cell_type": "code",
      "metadata": {
        "id": "zvdOk3wMY_RU"
      },
      "source": [
        "# noob\n",
        "n = 1000\n",
        "\n",
        "sum = 0\n",
        "for i in range(n):\n",
        "    if i % 3 == 0 or i % 5 == 0:\n",
        "        sum += i\n",
        "\n",
        "print(sum)\n"
      ],
      "execution_count": null,
      "outputs": []
    },
    {
      "cell_type": "code",
      "metadata": {
        "id": "AqWd_Gu0a5cP"
      },
      "source": [
        "#pro\n",
        "n = 1000\n",
        "\n",
        "i3 = 3\n",
        "i5 = 5\n",
        "\n",
        "sum = 0\n",
        "for i in range(i3, n, i3):\n",
        "  sum += i\n",
        "  \n",
        "for i in range(i5, n, i5):\n",
        "  if i % i3 != 0:\n",
        "    sum += i\n",
        "\n",
        "print(sum)\n"
      ],
      "execution_count": null,
      "outputs": []
    },
    {
      "cell_type": "code",
      "metadata": {
        "id": "PKzG_hK0vrwR",
        "colab": {
          "base_uri": "https://localhost:8080/"
        },
        "outputId": "066e261c-3a9a-4395-bff0-9548a7f21d6c"
      },
      "source": [
        "#pro pro\n",
        "\n",
        "import multiprocessing\n",
        "\n",
        "n = 1000\n",
        "\n",
        "def multiples_of_3(queue):\n",
        "  ret = queue.get()\n",
        "  \n",
        "  sum = 0\n",
        "  for i in range(3, n, 3):\n",
        "    sum += i\n",
        "  \n",
        "  ret['3'] = sum\n",
        "  queue.put(ret)\n",
        "\n",
        "def multiples_of_5(queue):\n",
        "  ret = queue.get()\n",
        "\n",
        "  sum = 0\n",
        "  for i in range(5, n, 5):\n",
        "    if i % 3 != 0:\n",
        "      sum += i\n",
        "\n",
        "  ret['5'] = sum\n",
        "  queue.put(ret)\n",
        "\n",
        "\n",
        "ret = {}\n",
        "queue = multiprocessing.Queue()\n",
        "queue.put(ret)\n",
        "p1 = multiprocessing.Process(target=multiples_of_3, args=(queue,))\n",
        "p2 = multiprocessing.Process(target=multiples_of_5, args=(queue,))\n",
        "p1.start()\n",
        "p2.start()\n",
        "\n",
        "p1.join()\n",
        "p2.join()\n",
        "sum = list(queue.get().values())\n",
        "print(sum[0] + sum[1])"
      ],
      "execution_count": 47,
      "outputs": [
        {
          "output_type": "stream",
          "name": "stdout",
          "text": [
            "2333333316666668\n"
          ]
        }
      ]
    },
    {
      "cell_type": "code",
      "metadata": {
        "colab": {
          "base_uri": "https://localhost:8080/"
        },
        "id": "T2zJxMURICOt",
        "outputId": "d01aab9d-c009-436f-8af4-34c9f6f7779a"
      },
      "source": [
        "# Ulta Pro Max\n",
        "\n",
        "def until_n(n, num):\n",
        "# nth term = a+(n-1)*difference || NOT here though\n",
        "  if n % num == 0:\n",
        "    max_num = n - num\n",
        "  else:\n",
        "    max_num = n // num\n",
        "    max_num = max_num * num\n",
        "  return max_num\n",
        "\n",
        "def num_of_terms(num):\n",
        "  terms = until_n(n, num) // num\n",
        "  return terms\n",
        "\n",
        "def sum_of_series(n, num):\n",
        "# sum of first_num to last_num = n*(a+b)/2\n",
        "  semi_sum = num_of_terms(num) * (num + until_n(n, num))\n",
        "  semi_sum = semi_sum // 2\n",
        "  return semi_sum\n",
        "\n",
        "n = 1000\n",
        "\n",
        "num1 = 3\n",
        "num2 = 5\n",
        "\n",
        "print(sum_of_series(n, num1) + sum_of_series(n, num2) - sum_of_series(n, num1*num2))\n"
      ],
      "execution_count": 55,
      "outputs": [
        {
          "output_type": "stream",
          "name": "stdout",
          "text": [
            "233168\n"
          ]
        }
      ]
    },
    {
      "cell_type": "markdown",
      "metadata": {
        "id": "zzS_xBLuY_RV"
      },
      "source": [
        "## Problem 2\n",
        "### Even Fibonacci numbers\n",
        "\n",
        "Each new term in the Fibonacci sequence is generated by adding the previous two terms. By starting with 1 and 2, the first 10 terms will be:\n",
        "\n",
        "1, 2, 3, 5, 8, 13, 21, 34, 55, 89, ...\n",
        "\n",
        "By considering the terms in the Fibonacci sequence whose values do not exceed four million, find the sum of the even-valued terms."
      ]
    },
    {
      "cell_type": "code",
      "metadata": {
        "id": "Kya_5rG3Y_RW"
      },
      "source": [
        "fibo = [0, 1, 0]\n",
        "sum = 0\n",
        "\n",
        "while fibo[2] < 4000000:          # Fibo(n) = Fibo(n-1) + Fibo(n-2)\n",
        "  \n",
        "  fibo[2] = fibo[0] + fibo[1]     # 0, 1, 1   # 1, 1, 2   # 1, 2, 3 \n",
        "  fibo[0] = fibo[1]               # 1, 1, 1   # 1, 1, 2   # 2, 2, 3 \n",
        "  fibo[1] = fibo[2]               # 1, 1, 1   # 1, 2, 2   # 2, 3, 3 \n",
        "  \n",
        "  if fibo[2] % 2 == 0:\n",
        "      sum = sum + fibo[2]\n",
        "    \n",
        "print(sum)"
      ],
      "execution_count": null,
      "outputs": []
    },
    {
      "cell_type": "markdown",
      "metadata": {
        "id": "MDpNZ4JpZZ9K"
      },
      "source": [
        "## Problem 3\n",
        "### Largest prime factor\n",
        "\n",
        "The prime factors of 13195 are 5, 7, 13 and 29.\n",
        "\n",
        "What is the largest prime factor of the number 600851475143 ?"
      ]
    },
    {
      "cell_type": "code",
      "metadata": {
        "id": "e-fN7kXKZj0U"
      },
      "source": [
        "from math import sqrt, ceil\n",
        "\n",
        "def isPrime(x):\n",
        "  for i in range(2, ceil(sqrt(x))+1):\n",
        "    if x % i == 0:\n",
        "      return False\n",
        "  return True\n",
        "\n",
        "\n",
        "num = 600851475143\n",
        "divisors = []\n",
        "prime_num = 0\n",
        "upper_bound = ceil(num/2) + 1\n",
        "\n",
        "for i in range(2, upper_bound):\n",
        "  if num % i == 0:                                # whether num is divisible by i\n",
        "    divisors.append(i)\n",
        "    divisors.append(int(num / i))\n",
        "\n",
        "    upper_bound = int(num / i) + 1        \n",
        "    if i > upper_bound:\n",
        "      break\n",
        "\n",
        "divisors = list(set(divisors))\n",
        "divisors.sort()\n",
        "\n",
        "for i in divisors:\n",
        "  if isPrime(i):\n",
        "    prime = i\n",
        "\n",
        "print(prime)\n"
      ],
      "execution_count": null,
      "outputs": []
    },
    {
      "cell_type": "markdown",
      "metadata": {
        "id": "_JhTrWQWZxDU"
      },
      "source": [
        "## Problem 4\n",
        "### Largest palindrome product\n",
        "\n",
        "A palindromic number reads the same both ways. The largest palindrome made from the product of two 2-digit numbers is 9009 = 91 × 99.\n",
        "\n",
        "Find the largest palindrome made from the product of two 3-digit numbers."
      ]
    },
    {
      "cell_type": "code",
      "metadata": {
        "id": "jfTXYyRNZxDj"
      },
      "source": [
        "palindrome = 0\n",
        "a = 0\n",
        "b = 0\n",
        "for i in range(999, 99, -1):\n",
        "  for j in range(999, 99, -1):\n",
        "\n",
        "    mul = i * j    \n",
        "    if str(mul) == str(mul)[::-1] and palindrome < mul:\n",
        "      palindrome = mul\n",
        "      a = i\n",
        "      b = j    \n",
        "\n",
        "print(f'{a} * {b} = {palindrome}')\n"
      ],
      "execution_count": null,
      "outputs": []
    },
    {
      "cell_type": "markdown",
      "metadata": {
        "id": "xTiUBrPAZxiQ"
      },
      "source": [
        "## Problem 5\n",
        "### Smallest multiple\n",
        "\n",
        "2520 is the smallest number that can be divided by each of the numbers from 1 to 10 without any remainder.\n",
        "\n",
        "What is the smallest positive number that is evenly divisible by all of the numbers from 1 to 20?"
      ]
    },
    {
      "cell_type": "code",
      "metadata": {
        "id": "Ut7L-PtKZxiR"
      },
      "source": [
        "#noob\n",
        "\n",
        "until = mul = 20\n",
        "\n",
        "while True:\n",
        "  \n",
        "  flag = 0\n",
        "  for i in range(1, until +1):\n",
        "    if mul % i == 0:\n",
        "      flag += 1\n",
        "    \n",
        "  if flag == until:\n",
        "    break\n",
        "\n",
        "  mul += 1\n",
        "\n",
        "print(mul)"
      ],
      "execution_count": null,
      "outputs": []
    },
    {
      "cell_type": "code",
      "metadata": {
        "colab": {
          "base_uri": "https://localhost:8080/"
        },
        "id": "diYSVunOHgtQ",
        "outputId": "0edffabe-4e71-4e43-9998-ffa7c275a6e4"
      },
      "source": [
        "#pro\n",
        "from math import sqrt, ceil\n",
        "\n",
        "def isPrime(x):\n",
        "  for i in range(2, ceil(sqrt(x)) +1):\n",
        "    if x % i == 0:\n",
        "      return False\n",
        "  return True\n",
        "\n",
        "def factors(x):\n",
        "  factor = []\n",
        "  for i in range(1, x+1):\n",
        "    if x % i == 0:\n",
        "      factor.append(i)\n",
        "  \n",
        "  return factor\n",
        "\n",
        "until = 20\n",
        "fact = []\n",
        "\n",
        "for i in range(1, until +1):\n",
        "  fact.append(factors(i))\n",
        "\n",
        "\n",
        "print(fact)\n",
        "\n",
        "# Unfinished business"
      ],
      "execution_count": null,
      "outputs": [
        {
          "output_type": "stream",
          "name": "stdout",
          "text": [
            "[[1], [1, 2], [1, 3], [1, 2, 4], [1, 5], [1, 2, 3, 6], [1, 7], [1, 2, 4, 8], [1, 3, 9], [1, 2, 5, 10], [1, 11], [1, 2, 3, 4, 6, 12], [1, 13], [1, 2, 7, 14], [1, 3, 5, 15], [1, 2, 4, 8, 16], [1, 17], [1, 2, 3, 6, 9, 18], [1, 19], [1, 2, 4, 5, 10, 20]]\n"
          ]
        }
      ]
    },
    {
      "cell_type": "markdown",
      "metadata": {
        "id": "0BCECo5nZyDQ"
      },
      "source": [
        "## Problem 6\n",
        "### Sum square difference\n",
        "\n",
        "![image.png](data:image/png;base64,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)"
      ]
    },
    {
      "cell_type": "code",
      "metadata": {
        "id": "8V_7eA8eZyDR",
        "colab": {
          "base_uri": "https://localhost:8080/"
        },
        "outputId": "5f198393-cba5-41a3-f6cd-850750a5b2c0"
      },
      "source": [
        "#Later\n",
        "n = 100\n",
        "\n",
        "sum_of_squares = 0\n",
        "square_of_sums = 0\n",
        "\n",
        "for i in range(1, n +1):\n",
        "  sum_of_squares += i**2\n",
        "  square_of_sums += i\n",
        "\n",
        "print(square_of_sums**2 - sum_of_squares)\n"
      ],
      "execution_count": null,
      "outputs": [
        {
          "output_type": "stream",
          "name": "stdout",
          "text": [
            "25164150\n"
          ]
        }
      ]
    },
    {
      "cell_type": "markdown",
      "metadata": {
        "id": "wv7iTo27ZydG"
      },
      "source": [
        "## Problem 7\n",
        "### 10001st prime\n",
        "\n",
        "By listing the first six prime numbers: 2, 3, 5, 7, 11, and 13, we can see that the 6th prime is 13.\n",
        "\n",
        "What is the 10 001st prime number?"
      ]
    },
    {
      "cell_type": "code",
      "metadata": {
        "id": "e5BUvt1zZydH"
      },
      "source": [
        "from math import sqrt, ceil\n",
        "\n",
        "def isPrime(x):\n",
        "  for i in range(2, ceil(sqrt(x)) +1):\n",
        "    if x % i == 0:\n",
        "      return False\n",
        "  return True\n",
        "\n",
        "##############\n",
        "wanted = 100001#th prime\n",
        "##############\n",
        "\n",
        "prime = 0\n",
        "num = 1\n",
        "while True:\n",
        "  \n",
        "  if isPrime(num):\n",
        "    prime += 1\n",
        "    \n",
        "  if prime == wanted:\n",
        "    break\n",
        "  \n",
        "  num +=1\n",
        "\n",
        "print(prime, num)"
      ],
      "execution_count": null,
      "outputs": []
    },
    {
      "cell_type": "code",
      "metadata": {
        "id": "Kwq5wd3EqnG9"
      },
      "source": [
        "#Dont try this. a waste of time\n",
        "\n",
        "from math import sqrt, ceil\n",
        "\n",
        "def isPrime(x, primes):\n",
        "  \n",
        "  for i in primes:\n",
        "\n",
        "    if x > 2 and x % i == 0:\n",
        "      return False, primes\n",
        "\n",
        "    elif x < 2:\n",
        "      return False, primes\n",
        "\n",
        "  primes.append(x)\n",
        "  return True, primes\n",
        "\n",
        "##############\n",
        "wanted = 10001#th prime number\n",
        "##############\n",
        "\n",
        "prime = 0\n",
        "num = 1\n",
        "primes = [2]\n",
        "\n",
        "while True:\n",
        "\n",
        "  what, primes = isPrime(num, primes)\n",
        "  if what:\n",
        "    prime += 1\n",
        "\n",
        "  if prime == wanted:\n",
        "    break\n",
        "  num +=1\n",
        "\n",
        "print(prime, num)"
      ],
      "execution_count": null,
      "outputs": []
    },
    {
      "cell_type": "markdown",
      "metadata": {
        "id": "wd5lFntiZy0L"
      },
      "source": [
        "## Problem 8\n",
        "### Largest product in a series\n",
        "\n",
        "The four adjacent digits in the 1000-digit number that have the greatest product are 9 × 9 × 8 × 9 = 5832.\n",
        "\n",
        "\n",
        "73167176531330624919225119674426574742355349194934\n",
        "96983520312774506326239578318016984801869478851843\n",
        "85861560789112949495459501737958331952853208805511\n",
        "12540698747158523863050715693290963295227443043557\n",
        "66896648950445244523161731856403098711121722383113\n",
        "62229893423380308135336276614282806444486645238749\n",
        "30358907296290491560440772390713810515859307960866\n",
        "70172427121883998797908792274921901699720888093776\n",
        "65727333001053367881220235421809751254540594752243\n",
        "52584907711670556013604839586446706324415722155397\n",
        "53697817977846174064955149290862569321978468622482\n",
        "83972241375657056057490261407972968652414535100474\n",
        "82166370484403199890008895243450658541227588666881\n",
        "16427171479924442928230863465674813919123162824586\n",
        "17866458359124566529476545682848912883142607690042\n",
        "24219022671055626321111109370544217506941658960408\n",
        "07198403850962455444362981230987879927244284909188\n",
        "84580156166097919133875499200524063689912560717606\n",
        "05886116467109405077541002256983155200055935729725\n",
        "71636269561882670428252483600823257530420752963450\n",
        "\n",
        "\n",
        "Find the thirteen adjacent digits in the 1000-digit number that have the greatest product. What is the value of this product?"
      ]
    },
    {
      "cell_type": "code",
      "metadata": {
        "id": "auIk60VcZy0M"
      },
      "source": [
        "largeNum = '7316717653133062491922511967442657474235534919493496983520312774506326239578318016984801869478851843858615607891129494954595017379583319528532088055111254069874715852386305071569329096329522744304355766896648950445244523161731856403098711121722383113622298934233803081353362766142828064444866452387493035890729629049156044077239071381051585930796086670172427121883998797908792274921901699720888093776657273330010533678812202354218097512545405947522435258490771167055601360483958644670632441572215539753697817977846174064955149290862569321978468622482839722413756570560574902614079729686524145351004748216637048440319989000889524345065854122758866688116427171479924442928230863465674813919123162824586178664583591245665294765456828489128831426076900422421902267105562632111110937054421750694165896040807198403850962455444362981230987879927244284909188845801561660979191338754992005240636899125607176060588611646710940507754100225698315520005593572972571636269561882670428252483600823257530420752963450'\n",
        "\n",
        "maximum = -999999\n",
        "\n",
        "for i in range(len(largeNum)):\n",
        "\n",
        "  if i+12 <= len(largeNum):\n",
        "    tempNum = largeNum[i:i+13]\n",
        "\n",
        "    mul = 1\n",
        "\n",
        "    for j in tempNum:\n",
        "      mul *= int(j)\n",
        "\n",
        "    if mul > maximum:\n",
        "      maximum = mul\n",
        "      maxNum = tempNum\n",
        "\n",
        "print(maxNum, maximum)"
      ],
      "execution_count": null,
      "outputs": []
    },
    {
      "cell_type": "markdown",
      "metadata": {
        "id": "umyiqlZPZzIJ"
      },
      "source": [
        "## Problem 9\n",
        "### Special Pythagorean triplet\n",
        "\n",
        "A Pythagorean triplet is a set of three natural numbers, a < b < c, for which,\n",
        "\n",
        "a2 + b2 = c2\n",
        "For example, 32 + 42 = 9 + 16 = 25 = 52.\n",
        "\n",
        "There exists exactly one Pythagorean triplet for which a + b + c = 1000.\n",
        "Find the product abc."
      ]
    },
    {
      "cell_type": "code",
      "metadata": {
        "id": "RXbbAfxWZzIJ"
      },
      "source": [
        "from math import sqrt\n",
        "\n",
        "sum_equal = 1000\n",
        "power_of = 2\n",
        "flag = 1\n",
        "\n",
        "for c in range(1, sum_equal):\n",
        "  for b in range(1, c):\n",
        "    for a in range(1, b):\n",
        "      if a+b+c == sum_equal and a**power_of + b**power_of == c**power_of:\n",
        "        print(f'{a} + {b} + {c} = {sum_equal}, {a**power_of} + {b**power_of} = {c**power_of}, Product = {a*b*c}')\n",
        "        flag = 0\n",
        "        break\n",
        "    if flag == 0:\n",
        "      break\n",
        "  if flag == 0:\n",
        "    break\n"
      ],
      "execution_count": null,
      "outputs": []
    },
    {
      "cell_type": "markdown",
      "metadata": {
        "id": "1EEd3NP_Zzdn"
      },
      "source": [
        "## Problem 10\n",
        "### Summation of primes\n",
        "\n",
        "The sum of the primes below 10 is 2 + 3 + 5 + 7 = 17.\n",
        "\n",
        "Find the sum of all the primes below two million."
      ]
    },
    {
      "cell_type": "code",
      "metadata": {
        "id": "1RJu9aXXZzdn"
      },
      "source": [
        "from math import sqrt\n",
        "\n",
        "def isPrime(x):\n",
        "  for i in range(2, int(sqrt(x)) +1):\n",
        "    if x % i == 0:\n",
        "      return False\n",
        "  return True\n",
        "\n",
        "\n",
        "until = 2000000\n",
        "prime_suspects = []\n",
        "\n",
        "for i in range(2, until):\n",
        "  if isPrime(i):\n",
        "    prime_suspects.append(i)\n",
        "\n",
        "print(prime_suspects)\n",
        "print(sum(prime_suspects))"
      ],
      "execution_count": null,
      "outputs": []
    },
    {
      "cell_type": "markdown",
      "metadata": {
        "id": "sHXQR1AxZzun"
      },
      "source": [
        "## Problem 11\n",
        "### Largest prime factor\n",
        "\n",
        "The prime factors of 13195 are 5, 7, 13 and 29.\n",
        "\n",
        "What is the largest prime factor of the number 600851475143 ?"
      ]
    },
    {
      "cell_type": "code",
      "metadata": {
        "id": "goPUo89MZzuo"
      },
      "source": [
        ""
      ],
      "execution_count": null,
      "outputs": []
    },
    {
      "cell_type": "markdown",
      "metadata": {
        "id": "DjMAq4nzNSG7"
      },
      "source": [
        "Skipping Work\n",
        "=============\n",
        "\n",
        "Commander Lambda is all about efficiency, including using her the bunny workers for manual labor. But no one's been properly monitoring the labor shifts for a while and they've gotten quite mixed up. You've been given the task of fixing them, but after you wrote up new shifts you realized that some bunny workers had been transferred to a different area and aren't available for their assigned shifts. Manually sorting through each shift list to compare against work area lists will take forever -- remember, Commander Lambda loves efficiency!\n",
        "\n",
        "Given two almost identical lists of worker IDs x and y where one of the lists contains an additional ID, write a function solution(x, y) that compares the lists and returns the additional ID.\n",
        "\n",
        "For example, given the lists x = [13, 5, 6, 2, 5] and y = [5, 2, 5, 13], the function solution(x, y) would return 6 because the list x contains the integer 6 and the list y doesn't. Given the lists x = [14, 27, 1, 4, 2, 50, 3, 1] and y = [2, 4, -4, 3, 1, 1, 14, 27, 50], the function solution(x, y) would return -4 because the list y contains the integer -4 and the list x doesn't.\n",
        "\n",
        "In each test case, the lists x and y will always contain n non-unique integers where n is at least 1 but never more than 99, and one of the lists will contain an additional unique integer which should be returned by the function. The same n non-unique integers will be present on both lists, but they might appear in a different order like in the examples above. Commander Lambda likes to keep the numbers short, so every worker ID will be between -1000 and 1000."
      ]
    },
    {
      "cell_type": "code",
      "metadata": {
        "id": "j2PpmfLaNb_w"
      },
      "source": [
        "def solution(x, y):\n",
        "    # Your code here\n",
        "    \n",
        "    if len(x) > len(y):\n",
        "        longer  = x\n",
        "        shorter = y\n",
        "    else:\n",
        "        longer  = y\n",
        "        shorter = x\n",
        "    \n",
        "    for i in longer:\n",
        "        if i not in shorter:\n",
        "            return i\n",
        "            \n",
        "    return None"
      ],
      "execution_count": null,
      "outputs": []
    },
    {
      "cell_type": "markdown",
      "metadata": {
        "id": "zyWm_gcMTDOL"
      },
      "source": [
        "Don't Get Volunteered!\n",
        "======================\n",
        "\n",
        "As a henchman on Commander Lambda's space station, you're expected to be resourceful, smart, and a quick thinker. It's not easy building a doomsday device and ordering the bunnies around at the same time, after all! In order to make sure that everyone is sufficiently quick-witted, Commander Lambda has installed new flooring outside the henchman dormitories. It looks like a chessboard, and every morning and evening you have to solve a new movement puzzle in order to cross the floor. That would be fine if you got to be the rook or the queen, but instead, you have to be the knight. Worse, if you take too much time solving the puzzle, you get \"volunteered\" as a test subject for the LAMBCHOP doomsday device!\n",
        "\n",
        "To help yourself get to and from your bunk every day, write a function called solution(src, dest) which takes in two parameters: the source square, on which you start, and the destination square, which is where you need to land to solve the puzzle.  The function should return an integer representing the smallest number of moves it will take for you to travel from the source square to the destination square using a chess knight's moves (that is, two squares in any direction immediately followed by one square perpendicular to that direction, or vice versa, in an \"L\" shape).  Both the source and destination squares will be an integer between 0 and 63, inclusive, and are numbered like the example chessboard below:\n",
        "\n",
        "-------------------------\n",
        "| 0| 1| 2| 3| 4| 5| 6| 7|\n",
        "-------------------------\n",
        "| 8| 9|10|11|12|13|14|15|\n",
        "-------------------------\n",
        "|16|17|18|19|20|21|22|23|\n",
        "-------------------------\n",
        "|24|25|26|27|28|29|30|31|\n",
        "-------------------------\n",
        "|32|33|34|35|36|37|38|39|\n",
        "-------------------------\n",
        "|40|41|42|43|44|45|46|47|\n",
        "-------------------------\n",
        "|48|49|50|51|52|53|54|55|\n",
        "-------------------------\n",
        "|56|57|58|59|60|61|62|63|\n",
        "-------------------------\n",
        "\n",
        "Languages\n",
        "=========\n",
        "\n",
        "To provide a Python solution, edit solution.py\n",
        "To provide a Java solution, edit Solution.java\n",
        "\n",
        "Test cases\n",
        "==========\n",
        "Your code should pass the following test cases.\n",
        "Note that it may also be run against hidden test cases not shown here.\n",
        "\n",
        "-- Python cases --\n",
        "Input:\n",
        "solution.solution(0, 1)\n",
        "Output:\n",
        "    3\n",
        "\n",
        "Input:\n",
        "solution.solution(19, 36)\n",
        "Output:\n",
        "    1\n",
        "\n",
        "-- Java cases --\n",
        "Input:\n",
        "Solution.solution(19, 36)\n",
        "Output:\n",
        "    1\n",
        "\n",
        "Input:\n",
        "Solution.solution(0, 1)\n",
        "Output:\n",
        "    3"
      ]
    },
    {
      "cell_type": "code",
      "metadata": {
        "colab": {
          "base_uri": "https://localhost:8080/"
        },
        "id": "CTGVUlT9TC26",
        "outputId": "a3a36775-ec60-49b7-fc5d-ca7da5dd4ed1"
      },
      "source": [
        "axis = []\n",
        "for row in range(8):\n",
        "    for col in range(8):\n",
        "        axis.append([row, col])\n",
        "\n",
        "for i, value in enumerate(axis):\n",
        "  print(value, end=' ') #i\n",
        "  if (i+1) % 8 ==0:\n",
        "    print()\n",
        "\n",
        "a ='| 0| 1| 2| 3| 4| 5| 6| 7|\\n\\\n",
        "| 8| 9|10|11|12|13|14|15|\\n\\\n",
        "|16|17|18|19|20|21|22|23|\\n\\\n",
        "|24|25|26|27|28|29|30|31|\\n\\\n",
        "|32|33|34|35|36|37|38|39|\\n\\\n",
        "|40|41|42|43|44|45|46|47|\\n\\\n",
        "|48|49|50|51|52|53|54|55|\\n\\\n",
        "|56|57|58|59|60|61|62|63|'\n",
        "\n",
        "print()\n",
        "print(a)"
      ],
      "execution_count": null,
      "outputs": [
        {
          "output_type": "stream",
          "name": "stdout",
          "text": [
            "[0, 0] [0, 1] [0, 2] [0, 3] [0, 4] [0, 5] [0, 6] [0, 7] \n",
            "[1, 0] [1, 1] [1, 2] [1, 3] [1, 4] [1, 5] [1, 6] [1, 7] \n",
            "[2, 0] [2, 1] [2, 2] [2, 3] [2, 4] [2, 5] [2, 6] [2, 7] \n",
            "[3, 0] [3, 1] [3, 2] [3, 3] [3, 4] [3, 5] [3, 6] [3, 7] \n",
            "[4, 0] [4, 1] [4, 2] [4, 3] [4, 4] [4, 5] [4, 6] [4, 7] \n",
            "[5, 0] [5, 1] [5, 2] [5, 3] [5, 4] [5, 5] [5, 6] [5, 7] \n",
            "[6, 0] [6, 1] [6, 2] [6, 3] [6, 4] [6, 5] [6, 6] [6, 7] \n",
            "[7, 0] [7, 1] [7, 2] [7, 3] [7, 4] [7, 5] [7, 6] [7, 7] \n",
            "\n",
            "| 0| 1| 2| 3| 4| 5| 6| 7|\n",
            "| 8| 9|10|11|12|13|14|15|\n",
            "|16|17|18|19|20|21|22|23|\n",
            "|24|25|26|27|28|29|30|31|\n",
            "|32|33|34|35|36|37|38|39|\n",
            "|40|41|42|43|44|45|46|47|\n",
            "|48|49|50|51|52|53|54|55|\n",
            "|56|57|58|59|60|61|62|63|\n"
          ]
        }
      ]
    },
    {
      "cell_type": "code",
      "metadata": {
        "id": "ccOqZVPpgO8k"
      },
      "source": [
        "def isvalid(move):\n",
        "  if any([\n",
        "    move[0] < 0,\n",
        "    move[0] > 7,\n",
        "    move[1] < 0,\n",
        "    move[1] > 7\n",
        "  ]):\n",
        "    return False\n",
        "  else:\n",
        "    return True\n",
        "    \n",
        "def num_to_row_col(num):\n",
        "# from number to row and column Conversion\n",
        "  axis = []\n",
        "  for row in range(8):\n",
        "    for col in range(8):\n",
        "      axis.append([row, col])\n",
        "  \n",
        "  return axis[num]\n",
        "\n",
        "def row_col_to_num(r, c):\n",
        "# from row and column to number Conversion\n",
        "  axis = []\n",
        "  for row in range(8):\n",
        "    for col in range(8):\n",
        "      axis.append([row, col])\n",
        "    \n",
        "  return axis.index([r, c])\n",
        "\n",
        "def closest(valid_moves, dest):\n",
        "# returns closest valid move as a list of [row, col]\n",
        "  destrow, destcol = num_to_row_col(dest)\n",
        "  for i in valid_moves:\n",
        "    \n",
        "\n",
        "\n",
        "  return i\n",
        "\n",
        "\n",
        "def solution(src, dest):\n",
        "            \n",
        "  startrow, startcol = num_to_row_col(src)\n",
        "  destrow, destcol = num_to_row_col(dest)\n",
        "  \n",
        "  # Move Definition\n",
        "  moves = [i for i in range(8)]\n",
        "  \n",
        "  moves[0] = up_left  = [-2,-1]\n",
        "  moves[1] = up_right = [-2, 1]\n",
        "  \n",
        "  moves[2] = right_up   = [-1, 2]\n",
        "  moves[3] = right_down = [ 1, 2]\n",
        "  \n",
        "  moves[4] = down_right = [2, 1]\n",
        "  moves[5] = down_left =  [2,-1]\n",
        "  \n",
        "  moves[6] = left_down = [ 1, -2]\n",
        "  moves[7] = left_up =   [-1, -2]\n",
        "  \n",
        "  valid_moves = []\n",
        "  for i in moves:\n",
        "    if isvalid(row + i[0] , col + i[1]):\n",
        "      row = row + i[0]\n",
        "      col = col + i[1]\n",
        "          \n",
        "      valid_moves.append([row, col])\n",
        "\n",
        "  for i in valid_moves:\n",
        "    if srow - i[0] == 0 and scol - i[1] == 0:\n",
        "      pass\n",
        "    elif srow - i[0] == 0 and scol - i[1] == 0:\n",
        "\n",
        "\n"
      ],
      "execution_count": null,
      "outputs": []
    },
    {
      "cell_type": "markdown",
      "metadata": {
        "id": "LyV92V4mqA1G"
      },
      "source": [
        "Have the function BracketCombinations(num) read num which will be an integer greater than or equal to zero, and return the number of valid combinations that can be formed with num pairs of parentheses. For example, if the input is 3, then the possible combinations of 3 pairs of parenthesis, namely: ()()(), are ()()(), ()(()), (())(), ((())), and (()()). There are 5 total combinations when the input is 3, so your program should return 5."
      ]
    },
    {
      "cell_type": "code",
      "metadata": {
        "id": "lTDS8SIN6RI_"
      },
      "source": [
        "from itertools import permutations\n",
        "\n",
        "def isvalid(brackets):\n",
        "  count = 0\n",
        "\n",
        "  for i in brackets:\n",
        "    flag = 0\n",
        "\n",
        "    for j in i:\n",
        "\n",
        "      if j % 2 == 0:\n",
        "        flag += 1\n",
        "      else:\n",
        "        flag -= 1\n",
        "\n",
        "      if flag < 0:\n",
        "        break\n",
        "\n",
        "    if flag == 0:\n",
        "      count += 1\n",
        "\n",
        "  return count\n",
        "\n",
        "\n",
        "def BracketCombinations(num):\n",
        "\n",
        "  # ( = 2\n",
        "  # ) = 1\n",
        "\n",
        "\n",
        "  brackets = []\n",
        "  for i in range(num):\n",
        "    brackets.append(1)\n",
        "  for i in range(num):\n",
        "    brackets.append(2)\n",
        "\n",
        "  pern = permutations(brackets)\n",
        "  pern = list(set(pern))\n",
        "  \n",
        "  num = isvalid(pern)      \n",
        "\n",
        "  return num\n",
        "\n",
        "# keep this function call here \n",
        "print(BracketCombinations(input()))"
      ],
      "execution_count": null,
      "outputs": []
    }
  ]
}